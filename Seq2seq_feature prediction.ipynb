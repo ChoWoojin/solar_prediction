{
 "cells": [
  {
   "cell_type": "code",
   "execution_count": 38,
   "metadata": {},
   "outputs": [],
   "source": [
    "import numpy as np\n",
    "import pandas as pd\n",
    "import matplotlib.pyplot as plt\n",
    "\n",
    "import random\n",
    "import torch\n",
    "import torch.nn as nn\n",
    "from torch import optim\n",
    "import torch.nn.functional as F\n",
    "\n",
    "device = torch.device(\"cuda\" if torch.cuda.is_available() else \"cpu\")\n",
    "# device = \"cpu\"\n",
    "random.seed(0)"
   ]
  },
  {
   "cell_type": "code",
   "execution_count": 4,
   "metadata": {},
   "outputs": [],
   "source": [
    "df = pd.read_csv('SJ001_merge_1day.csv')\n",
    "data = df.iloc[:, 1:].values\n",
    "for i in range(len(data)):\n",
    "    if data[i, 2] > 500:\n",
    "        data[i, 2] = (data[i-1, 2] + data[i+1, 2])/2 \n",
    "\n",
    "data = (data - data.min(axis=0)) / (data.max(axis=0) - data.min(axis=0))"
   ]
  },
  {
   "cell_type": "code",
   "execution_count": 5,
   "metadata": {},
   "outputs": [],
   "source": [
    "interval = 97\n",
    "input_size = data.shape[1]\n",
    "\n",
    "total_num = 8000\n",
    "train_num = 7000\n",
    "test_num = 1000\n",
    "\n",
    "input_series = np.zeros((train_num + test_num, interval, input_size))\n",
    "target_series = np.zeros((train_num + test_num, interval, 1))\n",
    "\n",
    "for i in range(train_num + test_num):\n",
    "    input_series[i, :, :] = data[i: i+interval]\n",
    "    target_series[i, :, :] = data[i+interval: i+interval*2, 2:3]\n",
    "\n",
    "input_series = torch.from_numpy(input_series).to(device)\n",
    "target_series = torch.from_numpy(target_series).to(device)\n",
    "    \n",
    "X_train = input_series[:train_num]\n",
    "X_test = input_series[train_num: train_num + test_num]\n",
    "y_train = target_series[:train_num]\n",
    "y_test = target_series[train_num: train_num + test_num]"
   ]
  },
  {
   "cell_type": "code",
   "execution_count": 6,
   "metadata": {},
   "outputs": [],
   "source": [
    "class EncoderRNN(nn.Module):\n",
    "    def __init__(self, input_size, hidden_size):\n",
    "        super(EncoderRNN, self).__init__()\n",
    "        self.input_size = input_size\n",
    "        self.hidden_size = hidden_size\n",
    "        self.gru = nn.GRU(input_size, hidden_size, batch_first = True)\n",
    "\n",
    "    def forward(self, input, hidden):\n",
    "        batch_size, seq_len = input.shape[0], input.shape[1]\n",
    "        output = input.float()\n",
    "        hidden = hidden.float()\n",
    "        output, hidden = self.gru(output, hidden)\n",
    "        return output, hidden\n",
    "\n",
    "    def initHidden(self, batch_size=1):\n",
    "        return torch.zeros(1, batch_size, self.hidden_size, device=device)"
   ]
  },
  {
   "cell_type": "code",
   "execution_count": 8,
   "metadata": {},
   "outputs": [],
   "source": [
    "class DecoderRNN(nn.Module):\n",
    "    def __init__(self, input_size, hidden_size, output_size=1):\n",
    "        super(DecoderRNN, self).__init__()\n",
    "        self.hidden_size = hidden_size\n",
    "        self.gru = nn.GRU(input_size, hidden_size, batch_first = True)\n",
    "        self.out = nn.Linear(hidden_size, output_size)\n",
    "\n",
    "    def forward(self, input, hidden):\n",
    "        batch_size = input.size(0)\n",
    "        output = input.view(batch_size, 1, 1).float()\n",
    "        hidden = hidden.float()\n",
    "        output, hidden = self.gru(output, hidden)\n",
    "        output = self.out(output)\n",
    "        \n",
    "        return output, hidden    "
   ]
  },
  {
   "cell_type": "code",
   "execution_count": 9,
   "metadata": {},
   "outputs": [],
   "source": [
    "hidden_size = 128\n",
    "encoder1 = EncoderRNN(input_size, hidden_size).to(device)\n",
    "decoder1 = DecoderRNN(1, hidden_size, 1).to(device)"
   ]
  },
  {
   "cell_type": "code",
   "execution_count": 17,
   "metadata": {},
   "outputs": [],
   "source": [
    "teacher_forcing_ratio = 0.5\n",
    "\n",
    "def train(input_tensor, target_tensor, encoder, decoder, encoder_optimizer, decoder_optimizer, criterion):\n",
    "    \n",
    "    batch_size = input_tensor.size(0)\n",
    "    encoder_hidden = encoder.initHidden(batch_size = batch_size)\n",
    "\n",
    "    encoder_optimizer.zero_grad()\n",
    "    decoder_optimizer.zero_grad()\n",
    "\n",
    "    input_length = input_tensor.size(1)\n",
    "    target_length = target_tensor.size(1)\n",
    "\n",
    "\n",
    "    encoder_output, encoder_hidden = encoder(input_tensor, encoder_hidden)\n",
    "    \n",
    "    decoder_input = input_tensor[:, -1:, 2:3]\n",
    "    decoder_hidden = encoder_hidden\n",
    "    outputs = []\n",
    "    use_teacher_forcing = True if random.random() < teacher_forcing_ratio else False\n",
    "    \n",
    "#     outputs, _ = decoder(decoder_input, decoder_hidden, target_length)\n",
    "\n",
    "    if use_teacher_forcing:\n",
    "        for di in range(target_length):\n",
    "            decoder_output, decoder_hidden = decoder(decoder_input, decoder_hidden)\n",
    "            outputs.append(decoder_output.squeeze(0))\n",
    "            decoder_input = target_tensor[:, di:di+1, :] # Teacher forcing\n",
    "    else:\n",
    "        # Without teacher forcing: use its own predictions as the next input\n",
    "        for di in range(target_length):\n",
    "            decoder_output, decoder_hidden = decoder(decoder_input, decoder_hidden)\n",
    "            outputs.append(decoder_output.squeeze(0))\n",
    "            decoder_input = decoder_output              \n",
    "            \n",
    "    outputs = torch.stack(outputs, dim=1).view(batch_size, target_length, 1)\n",
    "#     loss += criterion(decoder_output, target_tensor.float())\n",
    "\n",
    "    loss = criterion(outputs, target_tensor.float())\n",
    "\n",
    "    loss.backward()\n",
    "\n",
    "    encoder_optimizer.step()\n",
    "    decoder_optimizer.step()\n",
    "\n",
    "    return loss.item() / target_length"
   ]
  },
  {
   "cell_type": "code",
   "execution_count": 18,
   "metadata": {},
   "outputs": [],
   "source": [
    "def trainIters(encoder, decoder, batch_size = 40, epoch = 100, n_iters=train_num, print_every=1000, plot_every=100, learning_rate=0.005):\n",
    "    plot_losses = []\n",
    "\n",
    "    encoder_optimizer = optim.Adam(encoder.parameters(), lr=learning_rate)\n",
    "    decoder_optimizer = optim.Adam(decoder.parameters(), lr=learning_rate)\n",
    "    criterion = nn.MSELoss()\n",
    "    \n",
    "    for ep in range(epoch):\n",
    "        loss = 0\n",
    "        \n",
    "        for b in range(int(train_num / batch_size)):\n",
    "            input_tensor = input_series[batch_size*b:batch_size*(b+1)]\n",
    "            target_tensor = target_series[batch_size*b:batch_size*(b+1)]\n",
    "\n",
    "            loss += train(input_tensor, target_tensor, encoder, decoder, encoder_optimizer, decoder_optimizer, criterion)\n",
    "        loss = loss/ int(train_num / batch_size)    \n",
    "        plot_losses.append(loss)\n",
    "        print(\"Epoch \", ep, \"MSE: \", loss)"
   ]
  },
  {
   "cell_type": "code",
   "execution_count": 19,
   "metadata": {
    "scrolled": true
   },
   "outputs": [
    {
     "name": "stdout",
     "output_type": "stream",
     "text": [
      "Epoch  0 MSE:  0.0005757172389809094\n",
      "Epoch  1 MSE:  0.0004414319727893516\n",
      "Epoch  2 MSE:  0.0004247001311926931\n",
      "Epoch  3 MSE:  0.00043893381407339015\n",
      "Epoch  4 MSE:  0.00044356235637657386\n",
      "Epoch  5 MSE:  0.00040303506304143713\n",
      "Epoch  6 MSE:  0.00027494676729365204\n",
      "Epoch  7 MSE:  0.00030636136944025785\n",
      "Epoch  8 MSE:  0.00023549114964320836\n",
      "Epoch  9 MSE:  0.0001968154547645523\n",
      "Epoch  10 MSE:  0.00021745640397708278\n",
      "Epoch  11 MSE:  0.0002046723314115178\n",
      "Epoch  12 MSE:  0.00015712832845473157\n",
      "Epoch  13 MSE:  0.0001534525268273607\n",
      "Epoch  14 MSE:  0.0001404121945185562\n",
      "Epoch  15 MSE:  0.000153191018896246\n",
      "Epoch  16 MSE:  0.0001554207117207601\n",
      "Epoch  17 MSE:  0.0001426807028928632\n",
      "Epoch  18 MSE:  0.0001518500047949841\n",
      "Epoch  19 MSE:  0.0001500751126958098\n",
      "Epoch  20 MSE:  0.0001426216517815117\n",
      "Epoch  21 MSE:  0.00015316723626784557\n",
      "Epoch  22 MSE:  0.00014683083468219684\n",
      "Epoch  23 MSE:  0.00014175472070568617\n",
      "Epoch  24 MSE:  0.00013566923960055808\n",
      "Epoch  25 MSE:  0.00013448865917224618\n",
      "Epoch  26 MSE:  0.00014994519684513122\n",
      "Epoch  27 MSE:  0.0001452897348069478\n",
      "Epoch  28 MSE:  0.00014335699427450434\n",
      "Epoch  29 MSE:  0.00013623346458703544\n",
      "Epoch  30 MSE:  0.00013791708718705512\n",
      "Epoch  31 MSE:  0.00012826899133090464\n",
      "Epoch  32 MSE:  0.0001393475351561635\n",
      "Epoch  33 MSE:  0.0001363581255803897\n",
      "Epoch  34 MSE:  0.0001256267167627811\n",
      "Epoch  35 MSE:  0.00013400243178273336\n",
      "Epoch  36 MSE:  0.00013036803805320055\n",
      "Epoch  37 MSE:  0.00015637073673401157\n",
      "Epoch  38 MSE:  0.0001255534507542717\n",
      "Epoch  39 MSE:  0.00012984161219245516\n",
      "Epoch  40 MSE:  0.00013138068944835746\n",
      "Epoch  41 MSE:  0.00014485747207762655\n",
      "Epoch  42 MSE:  0.00012939194861980537\n",
      "Epoch  43 MSE:  0.00012381561213983596\n",
      "Epoch  44 MSE:  0.0001380281385366252\n",
      "Epoch  45 MSE:  0.00013075593771860112\n",
      "Epoch  46 MSE:  0.0001457217275418769\n",
      "Epoch  47 MSE:  0.00013601045830611446\n",
      "Epoch  48 MSE:  0.00013284267863500124\n",
      "Epoch  49 MSE:  0.00013121769056464823\n",
      "Epoch  50 MSE:  0.0001241706616131367\n",
      "Epoch  51 MSE:  0.00012671822657676983\n",
      "Epoch  52 MSE:  0.00011138863828642209\n",
      "Epoch  53 MSE:  0.00012637703430554958\n",
      "Epoch  54 MSE:  0.0001568416864864956\n",
      "Epoch  55 MSE:  0.00013682327222282049\n",
      "Epoch  56 MSE:  0.0001257945683720317\n",
      "Epoch  57 MSE:  0.0001481805370286634\n",
      "Epoch  58 MSE:  0.0001229076976620418\n",
      "Epoch  59 MSE:  0.000129215075838104\n",
      "Epoch  60 MSE:  0.00013712856081206026\n",
      "Epoch  61 MSE:  0.0001287143913526993\n",
      "Epoch  62 MSE:  0.00012451241287335596\n",
      "Epoch  63 MSE:  0.00014516441388788122\n",
      "Epoch  64 MSE:  0.008119404398053004\n",
      "Epoch  65 MSE:  0.007855298922936231\n",
      "Epoch  66 MSE:  0.003936668277137934\n",
      "Epoch  67 MSE:  0.002168815643341447\n",
      "Epoch  68 MSE:  0.002107973903724829\n",
      "Epoch  69 MSE:  0.0019244176373214906\n",
      "Epoch  70 MSE:  0.0018240053185833742\n",
      "Epoch  71 MSE:  0.0017002125986370316\n",
      "Epoch  72 MSE:  0.001654460973083008\n",
      "Epoch  73 MSE:  0.001589438986356901\n",
      "Epoch  74 MSE:  0.0015279613073163603\n",
      "Epoch  75 MSE:  0.0014504375829963519\n",
      "Epoch  76 MSE:  0.001410990714675723\n",
      "Epoch  77 MSE:  0.0013592084636568854\n",
      "Epoch  78 MSE:  0.0013005409730990605\n",
      "Epoch  79 MSE:  0.00122643543207066\n",
      "Epoch  80 MSE:  0.0011891666721876308\n",
      "Epoch  81 MSE:  0.0011476497354317838\n",
      "Epoch  82 MSE:  0.0011083551846301956\n",
      "Epoch  83 MSE:  0.001059747886280248\n",
      "Epoch  84 MSE:  0.0010188110376843991\n",
      "Epoch  85 MSE:  0.0009718671230399028\n",
      "Epoch  86 MSE:  0.000879603346291276\n",
      "Epoch  87 MSE:  0.0008320562616100368\n",
      "Epoch  88 MSE:  0.0007857090099790135\n",
      "Epoch  89 MSE:  0.0007502077078784163\n",
      "Epoch  90 MSE:  0.0007169750916589168\n",
      "Epoch  91 MSE:  0.000682228124084634\n",
      "Epoch  92 MSE:  0.0006446110608607575\n",
      "Epoch  93 MSE:  0.0006002996200270435\n",
      "Epoch  94 MSE:  0.0005760210791989526\n",
      "Epoch  95 MSE:  0.0005292038732538869\n",
      "Epoch  96 MSE:  0.0005117502044858919\n",
      "Epoch  97 MSE:  0.000477895162374176\n",
      "Epoch  98 MSE:  0.0004400924057734032\n",
      "Epoch  99 MSE:  0.00044205986698527054\n",
      "Epoch  100 MSE:  0.00038669436242820917\n",
      "Epoch  101 MSE:  0.0003644362043188845\n",
      "Epoch  102 MSE:  0.0003310985774328502\n",
      "Epoch  103 MSE:  0.00030619668218805096\n",
      "Epoch  104 MSE:  0.0002850221551197618\n",
      "Epoch  105 MSE:  0.00027804529950000757\n",
      "Epoch  106 MSE:  0.0002695666784653783\n",
      "Epoch  107 MSE:  0.000265155978725787\n",
      "Epoch  108 MSE:  0.0002522909055863108\n",
      "Epoch  109 MSE:  0.0002123388897940318\n",
      "Epoch  110 MSE:  0.00021634456412167194\n",
      "Epoch  111 MSE:  0.0002199824187021279\n",
      "Epoch  112 MSE:  0.00020519588315456194\n",
      "Epoch  113 MSE:  0.00019953467094494423\n",
      "Epoch  114 MSE:  0.00019688889771063482\n",
      "Epoch  115 MSE:  0.00017953158673091025\n",
      "Epoch  116 MSE:  0.00019289662287912072\n",
      "Epoch  117 MSE:  0.00017085196126652926\n",
      "Epoch  118 MSE:  0.00018806066455947723\n",
      "Epoch  119 MSE:  0.0001655075979447855\n",
      "Epoch  120 MSE:  0.0001705741752569998\n",
      "Epoch  121 MSE:  0.00016429711998726986\n",
      "Epoch  122 MSE:  0.00016213873804537293\n",
      "Epoch  123 MSE:  0.00017050294160283273\n",
      "Epoch  124 MSE:  0.00017474336077806169\n",
      "Epoch  125 MSE:  0.00016200582398066024\n",
      "Epoch  126 MSE:  0.00016918320639473176\n",
      "Epoch  127 MSE:  0.00014534471268506404\n",
      "Epoch  128 MSE:  0.0001481593142926079\n",
      "Epoch  129 MSE:  0.00015407231371624832\n",
      "Epoch  130 MSE:  0.00014341677469098508\n",
      "Epoch  131 MSE:  0.0001547216114331591\n",
      "Epoch  132 MSE:  0.0001563117823896817\n",
      "Epoch  133 MSE:  0.00014557589694517433\n",
      "Epoch  134 MSE:  0.00014086773988018593\n",
      "Epoch  135 MSE:  0.00014661445102718868\n",
      "Epoch  136 MSE:  0.00015811903432384685\n",
      "Epoch  137 MSE:  0.00013951693805529903\n",
      "Epoch  138 MSE:  0.00015486834526874004\n",
      "Epoch  139 MSE:  0.00014024973275010994\n",
      "Epoch  140 MSE:  0.00015193544548355997\n",
      "Epoch  141 MSE:  0.00016442193169646037\n",
      "Epoch  142 MSE:  0.00013209272259695457\n",
      "Epoch  143 MSE:  0.0001559908487813463\n",
      "Epoch  144 MSE:  0.00014120910312590877\n",
      "Epoch  145 MSE:  0.00015356860078311638\n",
      "Epoch  146 MSE:  0.00014078898584423517\n",
      "Epoch  147 MSE:  0.00013373679017842865\n",
      "Epoch  148 MSE:  0.00016373461442937821\n",
      "Epoch  149 MSE:  0.00015741312388736694\n"
     ]
    }
   ],
   "source": [
    "trainIters(encoder1, decoder1, epoch=150)"
   ]
  },
  {
   "cell_type": "code",
   "execution_count": 34,
   "metadata": {},
   "outputs": [],
   "source": [
    "def evaluate(encoder, decoder, input_tensor, target_length):\n",
    "    with torch.no_grad():\n",
    "        input_tensor = input_tensor.unsqueeze(0)\n",
    "        input_length = input_tensor.size()[1]\n",
    "        encoder_hidden = encoder.initHidden(batch_size = 1)\n",
    "\n",
    "        encoder_output, encoder_hidden = encoder(input_tensor, encoder_hidden)\n",
    "\n",
    "        decoder_input = input_tensor[:, -1:, 2:3] \n",
    "        decoder_hidden = encoder_hidden\n",
    "        \n",
    "        decoded = []\n",
    "        \n",
    "        for di in range(target_length):\n",
    "            decoder_output, decoder_hidden = decoder(decoder_input, decoder_hidden)\n",
    "            decoded.append(decoder_output.item())\n",
    "            decoder_input = decoder_output\n",
    "        return decoded"
   ]
  },
  {
   "cell_type": "code",
   "execution_count": 32,
   "metadata": {},
   "outputs": [
    {
     "data": {
      "text/plain": [
       "torch.Size([1, 97, 12])"
      ]
     },
     "execution_count": 32,
     "metadata": {},
     "output_type": "execute_result"
    }
   ],
   "source": [
    "input_series[570].unsqueeze(0).shape"
   ]
  },
  {
   "cell_type": "code",
   "execution_count": 35,
   "metadata": {},
   "outputs": [
    {
     "data": {
      "text/plain": [
       "<matplotlib.legend.Legend at 0x7f3ddeec6c18>"
      ]
     },
     "execution_count": 35,
     "metadata": {},
     "output_type": "execute_result"
    },
    {
     "data": {
      "image/png": "[encoded data removed]",
      "text/plain": [
       "<Figure size 432x288 with 1 Axes>"
      ]
     },
     "metadata": {
      "needs_background": "light"
     },
     "output_type": "display_data"
    }
   ],
   "source": [
    "dec = evaluate(encoder1, decoder1, input_series[570], interval)\n",
    "plt.plot(dec, label = 'pred')\n",
    "plt.plot(target_series[570].cpu().numpy())\n",
    "plt.legend()"
   ]
  },
  {
   "cell_type": "code",
   "execution_count": 36,
   "metadata": {},
   "outputs": [
    {
     "data": {
      "text/plain": [
       "<matplotlib.legend.Legend at 0x7f3ddee877b8>"
      ]
     },
     "execution_count": 36,
     "metadata": {},
     "output_type": "execute_result"
    },
    {
     "data": {
      "image/png": "[encoded data removed]",
      "text/plain": [
       "<Figure size 432x288 with 1 Axes>"
      ]
     },
     "metadata": {
      "needs_background": "light"
     },
     "output_type": "display_data"
    }
   ],
   "source": [
    "dec = evaluate(encoder1, decoder1, input_series[1630], interval)\n",
    "plt.plot(dec, label = 'pred')\n",
    "plt.plot(target_series[1630].cpu().numpy())\n",
    "plt.legend()"
   ]
  },
  {
   "cell_type": "code",
   "execution_count": null,
   "metadata": {},
   "outputs": [],
   "source": []
  }
 ],
 "metadata": {
  "kernelspec": {
   "display_name": "Python 3",
   "language": "python",
   "name": "python3"
  },
  "language_info": {
   "codemirror_mode": {
    "name": "ipython",
    "version": 3
   },
   "file_extension": ".py",
   "mimetype": "text/x-python",
   "name": "python",
   "nbconvert_exporter": "python",
   "pygments_lexer": "ipython3",
   "version": "3.5.2"
  }
 },
 "nbformat": 4,
 "nbformat_minor": 2
}
